{
 "cells": [
  {
   "cell_type": "code",
   "execution_count": 1,
   "metadata": {},
   "outputs": [],
   "source": [
    "\n",
    "import pandas as pd\n",
    "import sqlite3\n",
    "import matplotlib.pyplot as plt\n",
    "from datetime import timedelta\n",
    "from datetime import datetime\n"
   ]
  },
  {
   "cell_type": "code",
   "execution_count": 2,
   "metadata": {},
   "outputs": [],
   "source": [
    "\n",
    "#it will be nice to write a function  to convert this dates into date time since the data contain dates\n",
    "def convert_date(date_str):\n",
    "    try:\n",
    "        return datetime.strptime(date_str, \"%d%b%Y\")\n",
    "    except ValueError:\n",
    "        return None  # Handle any potential errors by returning None\n",
    "\n",
    "\n",
    "\n",
    "\n"
   ]
  },
  {
   "cell_type": "code",
   "execution_count": 3,
   "metadata": {},
   "outputs": [],
   "source": [
    "# Loading data and using delimiter to seperate the data nicely\n",
    "defaults_df = pd.read_csv('defaults.csv', delimiter=';')\n",
    "exchangerates_df = pd.read_csv('exchangerates.csv', delimiter=';')\n",
    "\n",
    "\n"
   ]
  },
  {
   "cell_type": "code",
   "execution_count": 4,
   "metadata": {},
   "outputs": [],
   "source": [
    "# Apply the cover_date function on the dates column\n",
    "defaults_df['DefaultDate'] = defaults_df['DefaultDate'].apply(convert_date)\n",
    "defaults_df['DefaultEndDate'] = defaults_df['DefaultEndDate'].apply(convert_date)\n",
    "\n",
    "exchangerates_df['ReportDate'] = exchangerates_df['ReportDate'].apply(convert_date)\n"
   ]
  },
  {
   "cell_type": "code",
   "execution_count": 5,
   "metadata": {},
   "outputs": [
    {
     "name": "stdout",
     "output_type": "stream",
     "text": [
      "Defaults Dataset:\n"
     ]
    },
    {
     "data": {
      "text/html": [
       "<div>\n",
       "<style scoped>\n",
       "    .dataframe tbody tr th:only-of-type {\n",
       "        vertical-align: middle;\n",
       "    }\n",
       "\n",
       "    .dataframe tbody tr th {\n",
       "        vertical-align: top;\n",
       "    }\n",
       "\n",
       "    .dataframe thead th {\n",
       "        text-align: right;\n",
       "    }\n",
       "</style>\n",
       "<table border=\"1\" class=\"dataframe\">\n",
       "  <thead>\n",
       "    <tr style=\"text-align: right;\">\n",
       "      <th></th>\n",
       "      <th>AgreementGenId</th>\n",
       "      <th>DefaultDate</th>\n",
       "      <th>DefaultEndDate</th>\n",
       "      <th>DefaultRankNum</th>\n",
       "      <th>DefaultTypeCd</th>\n",
       "      <th>ValutaKod</th>\n",
       "      <th>LossAmount</th>\n",
       "      <th>EAD</th>\n",
       "    </tr>\n",
       "  </thead>\n",
       "  <tbody>\n",
       "    <tr>\n",
       "      <th>0</th>\n",
       "      <td>1180176</td>\n",
       "      <td>2010-05-01</td>\n",
       "      <td>2018-02-28 00:00:00</td>\n",
       "      <td>26</td>\n",
       "      <td>D90</td>\n",
       "      <td>SEK</td>\n",
       "      <td>5097.970135</td>\n",
       "      <td>14980.383</td>\n",
       "    </tr>\n",
       "    <tr>\n",
       "      <th>1</th>\n",
       "      <td>1196292</td>\n",
       "      <td>2006-11-01</td>\n",
       "      <td>2018-05-31 00:00:00</td>\n",
       "      <td>20</td>\n",
       "      <td>HAF</td>\n",
       "      <td>SEK</td>\n",
       "      <td>28663.800000</td>\n",
       "      <td>28663.800</td>\n",
       "    </tr>\n",
       "    <tr>\n",
       "      <th>2</th>\n",
       "      <td>1211676</td>\n",
       "      <td>2008-05-01</td>\n",
       "      <td>2008-09-30 00:00:00</td>\n",
       "      <td>26</td>\n",
       "      <td>D90</td>\n",
       "      <td>SEK</td>\n",
       "      <td>16674.493000</td>\n",
       "      <td>16674.493</td>\n",
       "    </tr>\n",
       "    <tr>\n",
       "      <th>3</th>\n",
       "      <td>1226304</td>\n",
       "      <td>2019-04-01</td>\n",
       "      <td>2999-12-31 00:00:00</td>\n",
       "      <td>26</td>\n",
       "      <td>D90</td>\n",
       "      <td>SEK</td>\n",
       "      <td>10293.008000</td>\n",
       "      <td>10293.008</td>\n",
       "    </tr>\n",
       "    <tr>\n",
       "      <th>4</th>\n",
       "      <td>1235808</td>\n",
       "      <td>2010-11-01</td>\n",
       "      <td>2018-10-31 00:00:00</td>\n",
       "      <td>26</td>\n",
       "      <td>D90</td>\n",
       "      <td>SEK</td>\n",
       "      <td>22431.816000</td>\n",
       "      <td>22431.816</td>\n",
       "    </tr>\n",
       "    <tr>\n",
       "      <th>5</th>\n",
       "      <td>1257420</td>\n",
       "      <td>2018-04-01</td>\n",
       "      <td>2999-12-31 00:00:00</td>\n",
       "      <td>26</td>\n",
       "      <td>D90</td>\n",
       "      <td>SEK</td>\n",
       "      <td>3664.859000</td>\n",
       "      <td>3664.859</td>\n",
       "    </tr>\n",
       "    <tr>\n",
       "      <th>6</th>\n",
       "      <td>1270512</td>\n",
       "      <td>2006-05-01</td>\n",
       "      <td>2018-10-31 00:00:00</td>\n",
       "      <td>20</td>\n",
       "      <td>HAF</td>\n",
       "      <td>SEK</td>\n",
       "      <td>11006.809000</td>\n",
       "      <td>11006.809</td>\n",
       "    </tr>\n",
       "  </tbody>\n",
       "</table>\n",
       "</div>"
      ],
      "text/plain": [
       "   AgreementGenId DefaultDate       DefaultEndDate  DefaultRankNum  \\\n",
       "0         1180176  2010-05-01  2018-02-28 00:00:00              26   \n",
       "1         1196292  2006-11-01  2018-05-31 00:00:00              20   \n",
       "2         1211676  2008-05-01  2008-09-30 00:00:00              26   \n",
       "3         1226304  2019-04-01  2999-12-31 00:00:00              26   \n",
       "4         1235808  2010-11-01  2018-10-31 00:00:00              26   \n",
       "5         1257420  2018-04-01  2999-12-31 00:00:00              26   \n",
       "6         1270512  2006-05-01  2018-10-31 00:00:00              20   \n",
       "\n",
       "  DefaultTypeCd ValutaKod    LossAmount        EAD  \n",
       "0           D90       SEK   5097.970135  14980.383  \n",
       "1           HAF       SEK  28663.800000  28663.800  \n",
       "2           D90       SEK  16674.493000  16674.493  \n",
       "3           D90       SEK  10293.008000  10293.008  \n",
       "4           D90       SEK  22431.816000  22431.816  \n",
       "5           D90       SEK   3664.859000   3664.859  \n",
       "6           HAF       SEK  11006.809000  11006.809  "
      ]
     },
     "metadata": {},
     "output_type": "display_data"
    },
    {
     "name": "stdout",
     "output_type": "stream",
     "text": [
      "\n",
      "Exchange Rates Dataset:\n"
     ]
    },
    {
     "data": {
      "text/html": [
       "<div>\n",
       "<style scoped>\n",
       "    .dataframe tbody tr th:only-of-type {\n",
       "        vertical-align: middle;\n",
       "    }\n",
       "\n",
       "    .dataframe tbody tr th {\n",
       "        vertical-align: top;\n",
       "    }\n",
       "\n",
       "    .dataframe thead th {\n",
       "        text-align: right;\n",
       "    }\n",
       "</style>\n",
       "<table border=\"1\" class=\"dataframe\">\n",
       "  <thead>\n",
       "    <tr style=\"text-align: right;\">\n",
       "      <th></th>\n",
       "      <th>Currency</th>\n",
       "      <th>CurrencyCd</th>\n",
       "      <th>ReportDate</th>\n",
       "      <th>Valuation</th>\n",
       "    </tr>\n",
       "  </thead>\n",
       "  <tbody>\n",
       "    <tr>\n",
       "      <th>0</th>\n",
       "      <td>United Kingdom Pound</td>\n",
       "      <td>gbp</td>\n",
       "      <td>2014-08-07</td>\n",
       "      <td>11.61883</td>\n",
       "    </tr>\n",
       "    <tr>\n",
       "      <th>1</th>\n",
       "      <td>United Kingdom Pound</td>\n",
       "      <td>gbp</td>\n",
       "      <td>2012-01-10</td>\n",
       "      <td>10.65730</td>\n",
       "    </tr>\n",
       "    <tr>\n",
       "      <th>2</th>\n",
       "      <td>Australian Dollar</td>\n",
       "      <td>aud</td>\n",
       "      <td>2020-07-09</td>\n",
       "      <td>6.59509</td>\n",
       "    </tr>\n",
       "    <tr>\n",
       "      <th>3</th>\n",
       "      <td>Australian Dollar</td>\n",
       "      <td>aud</td>\n",
       "      <td>2009-04-08</td>\n",
       "      <td>5.82534</td>\n",
       "    </tr>\n",
       "    <tr>\n",
       "      <th>4</th>\n",
       "      <td>Danish Krone</td>\n",
       "      <td>dkk</td>\n",
       "      <td>2018-05-01</td>\n",
       "      <td>1.40921</td>\n",
       "    </tr>\n",
       "  </tbody>\n",
       "</table>\n",
       "</div>"
      ],
      "text/plain": [
       "               Currency CurrencyCd ReportDate  Valuation\n",
       "0  United Kingdom Pound        gbp 2014-08-07   11.61883\n",
       "1  United Kingdom Pound        gbp 2012-01-10   10.65730\n",
       "2     Australian Dollar        aud 2020-07-09    6.59509\n",
       "3     Australian Dollar        aud 2009-04-08    5.82534\n",
       "4          Danish Krone        dkk 2018-05-01    1.40921"
      ]
     },
     "metadata": {},
     "output_type": "display_data"
    }
   ],
   "source": [
    "\n",
    "print(\"Defaults Dataset:\")\n",
    "display(defaults_df.head(7))\n",
    "\n",
    "print(\"\\nExchange Rates Dataset:\")\n",
    "display(exchangerates_df.head())\n",
    "\n"
   ]
  },
  {
   "cell_type": "markdown",
   "metadata": {},
   "source": [
    "# Explore both data"
   ]
  },
  {
   "cell_type": "markdown",
   "metadata": {},
   "source": [
    "A careful instrospect at the data shows credit risk data between financial institution and client (borrower defaults on loan)\n",
    "\n",
    "On the default.csv file,  the data shows SEK is the base currency and \n",
    "majority of the currencies in the Valutakod are SEK in the default data but other currencies exist"
   ]
  },
  {
   "cell_type": "code",
   "execution_count": 6,
   "metadata": {},
   "outputs": [
    {
     "data": {
      "text/html": [
       "<div>\n",
       "<style scoped>\n",
       "    .dataframe tbody tr th:only-of-type {\n",
       "        vertical-align: middle;\n",
       "    }\n",
       "\n",
       "    .dataframe tbody tr th {\n",
       "        vertical-align: top;\n",
       "    }\n",
       "\n",
       "    .dataframe thead th {\n",
       "        text-align: right;\n",
       "    }\n",
       "</style>\n",
       "<table border=\"1\" class=\"dataframe\">\n",
       "  <thead>\n",
       "    <tr style=\"text-align: right;\">\n",
       "      <th></th>\n",
       "      <th>AgreementGenId</th>\n",
       "      <th>DefaultDate</th>\n",
       "      <th>DefaultEndDate</th>\n",
       "      <th>DefaultRankNum</th>\n",
       "      <th>DefaultTypeCd</th>\n",
       "      <th>ValutaKod</th>\n",
       "      <th>LossAmount</th>\n",
       "      <th>EAD</th>\n",
       "    </tr>\n",
       "  </thead>\n",
       "  <tbody>\n",
       "    <tr>\n",
       "      <th>29</th>\n",
       "      <td>1329252</td>\n",
       "      <td>2018-04-01</td>\n",
       "      <td>2999-12-31 00:00:00</td>\n",
       "      <td>26</td>\n",
       "      <td>D90</td>\n",
       "      <td>NOK</td>\n",
       "      <td>22856.801</td>\n",
       "      <td>22856.801</td>\n",
       "    </tr>\n",
       "    <tr>\n",
       "      <th>30</th>\n",
       "      <td>1334976</td>\n",
       "      <td>2014-11-01</td>\n",
       "      <td>2999-12-31 00:00:00</td>\n",
       "      <td>20</td>\n",
       "      <td>HAF</td>\n",
       "      <td>USD</td>\n",
       "      <td>10118.009</td>\n",
       "      <td>10118.009</td>\n",
       "    </tr>\n",
       "    <tr>\n",
       "      <th>46</th>\n",
       "      <td>1416924</td>\n",
       "      <td>2014-09-01</td>\n",
       "      <td>2016-02-29 00:00:00</td>\n",
       "      <td>26</td>\n",
       "      <td>D90</td>\n",
       "      <td>EUR</td>\n",
       "      <td>19004.172</td>\n",
       "      <td>19004.172</td>\n",
       "    </tr>\n",
       "    <tr>\n",
       "      <th>67</th>\n",
       "      <td>1557036</td>\n",
       "      <td>2012-03-01</td>\n",
       "      <td>2999-12-31 00:00:00</td>\n",
       "      <td>20</td>\n",
       "      <td>HAF</td>\n",
       "      <td>NOK</td>\n",
       "      <td>21415.405</td>\n",
       "      <td>21415.405</td>\n",
       "    </tr>\n",
       "    <tr>\n",
       "      <th>74</th>\n",
       "      <td>1583400</td>\n",
       "      <td>2009-01-01</td>\n",
       "      <td>2010-03-31 00:00:00</td>\n",
       "      <td>11</td>\n",
       "      <td>SS</td>\n",
       "      <td>USD</td>\n",
       "      <td>10972.555</td>\n",
       "      <td>10972.555</td>\n",
       "    </tr>\n",
       "  </tbody>\n",
       "</table>\n",
       "</div>"
      ],
      "text/plain": [
       "    AgreementGenId DefaultDate       DefaultEndDate  DefaultRankNum  \\\n",
       "29         1329252  2018-04-01  2999-12-31 00:00:00              26   \n",
       "30         1334976  2014-11-01  2999-12-31 00:00:00              20   \n",
       "46         1416924  2014-09-01  2016-02-29 00:00:00              26   \n",
       "67         1557036  2012-03-01  2999-12-31 00:00:00              20   \n",
       "74         1583400  2009-01-01  2010-03-31 00:00:00              11   \n",
       "\n",
       "   DefaultTypeCd ValutaKod  LossAmount        EAD  \n",
       "29           D90       NOK   22856.801  22856.801  \n",
       "30           HAF       USD   10118.009  10118.009  \n",
       "46           D90       EUR   19004.172  19004.172  \n",
       "67           HAF       NOK   21415.405  21415.405  \n",
       "74            SS       USD   10972.555  10972.555  "
      ]
     },
     "execution_count": 6,
     "metadata": {},
     "output_type": "execute_result"
    }
   ],
   "source": [
    "# show rows in defaults_df where ValutaKod is not equal to \"SEK\"\n",
    "non_sek_rows = defaults_df[defaults_df['ValutaKod'] != \"SEK\"]\n",
    "non_sek_rows.head()\n"
   ]
  },
  {
   "cell_type": "code",
   "execution_count": 7,
   "metadata": {},
   "outputs": [
    {
     "data": {
      "text/plain": [
       "(array(['SEK', 'NOK', 'USD', 'EUR'], dtype=object),\n",
       " array(['gbp', 'aud', 'dkk', 'eur', 'usd', 'nok'], dtype=object))"
      ]
     },
     "execution_count": 7,
     "metadata": {},
     "output_type": "execute_result"
    }
   ],
   "source": [
    "# show unique values in ValutaKod and CurrencyCd in the exchange  and default data to examine\n",
    "unique_valutakod = defaults_df['ValutaKod'].unique()\n",
    "unique_currencycd = exchangerates_df['CurrencyCd'].unique()\n",
    "\n",
    "unique_valutakod, unique_currencycd"
   ]
  },
  {
   "cell_type": "code",
   "execution_count": 8,
   "metadata": {},
   "outputs": [],
   "source": [
    "# it will be nice to apply uppercase for matching purpose\n",
    "defaults_df['ValutaKod'] = defaults_df['ValutaKod'].str.upper()\n",
    "exchangerates_df['CurrencyCd'] = exchangerates_df['CurrencyCd'].str.upper()"
   ]
  },
  {
   "cell_type": "code",
   "execution_count": 9,
   "metadata": {},
   "outputs": [],
   "source": [
    "# Initialize SQLite connection\n",
    "conn = sqlite3.connect(\":memory:\")\n",
    "defaults_df.to_sql(\"defaults\", conn, index=False, if_exists=\"replace\")\n",
    "exchangerates_df.to_sql(\"exchangerates\", conn, index=False, if_exists=\"replace\")\n"
   ]
  },
  {
   "cell_type": "markdown",
   "metadata": {},
   "source": [
    "# Question 1: How many distinct defaults are in the dataset defaults?"
   ]
  },
  {
   "cell_type": "code",
   "execution_count": 10,
   "metadata": {},
   "outputs": [
    {
     "name": "stdout",
     "output_type": "stream",
     "text": [
      "Number of distinct defaults:\n"
     ]
    },
    {
     "data": {
      "text/html": [
       "<div>\n",
       "<style scoped>\n",
       "    .dataframe tbody tr th:only-of-type {\n",
       "        vertical-align: middle;\n",
       "    }\n",
       "\n",
       "    .dataframe tbody tr th {\n",
       "        vertical-align: top;\n",
       "    }\n",
       "\n",
       "    .dataframe thead th {\n",
       "        text-align: right;\n",
       "    }\n",
       "</style>\n",
       "<table border=\"1\" class=\"dataframe\">\n",
       "  <thead>\n",
       "    <tr style=\"text-align: right;\">\n",
       "      <th></th>\n",
       "      <th>distinct_defaults_count</th>\n",
       "    </tr>\n",
       "  </thead>\n",
       "  <tbody>\n",
       "    <tr>\n",
       "      <th>0</th>\n",
       "      <td>623</td>\n",
       "    </tr>\n",
       "  </tbody>\n",
       "</table>\n",
       "</div>"
      ],
      "text/plain": [
       "   distinct_defaults_count\n",
       "0                      623"
      ]
     },
     "metadata": {},
     "output_type": "display_data"
    }
   ],
   "source": [
    "query = \"\"\"\n",
    "SELECT COUNT(DISTINCT AgreementGenId) AS distinct_defaults_count\n",
    "FROM defaults\n",
    "\"\"\"\n",
    "\n",
    "# Execute\n",
    "distinct_defaults_count = pd.read_sql(query, conn)\n",
    "print(\"Number of distinct defaults:\")\n",
    "display(distinct_defaults_count)"
   ]
  },
  {
   "cell_type": "markdown",
   "metadata": {},
   "source": [
    "This show that there are 623 unique clients loan agreements default"
   ]
  },
  {
   "cell_type": "markdown",
   "metadata": {},
   "source": [
    "# Question 2, Make a distribution graph of how many times agreements default."
   ]
  },
  {
   "cell_type": "code",
   "execution_count": 11,
   "metadata": {},
   "outputs": [
    {
     "data": {
      "image/png": "[encoded data removed]",
      "text/plain": [
       "<Figure size 720x432 with 1 Axes>"
      ]
     },
     "metadata": {
      "needs_background": "light"
     },
     "output_type": "display_data"
    }
   ],
   "source": [
    "\n",
    "#count each AgreementGenId\n",
    "query_distribution = \"\"\"\n",
    "SELECT AgreementGenId, COUNT(*) AS default_count\n",
    "FROM defaults\n",
    "GROUP BY AgreementGenId\n",
    "\"\"\"\n",
    "\n",
    "default_counts_df = pd.read_sql(query_distribution, conn)\n",
    "\n",
    "# Plot\n",
    "plt.figure(figsize=(10, 6))\n",
    "plt.hist(default_counts_df['default_count'], bins=range(1, default_counts_df['default_count'].max() + 2), edgecolor='black')\n",
    "plt.title(\"Distribution of Agreement Default Counts\")\n",
    "plt.xlabel(\"Number of Defaults per Agreement\")\n",
    "plt.ylabel(\"Frequency\")\n",
    "plt.show()\n"
   ]
  },
  {
   "cell_type": "markdown",
   "metadata": {},
   "source": [
    "This shows most loan agreemnet defaults once or twice"
   ]
  },
  {
   "cell_type": "markdown",
   "metadata": {},
   "source": [
    "# Question 3\n",
    "\n",
    "Perform 9 month aggregation on default data with the following rules for other variables:\n",
    "\n",
    "a.\n",
    "The EAD and loss amount come from the first default.\n",
    "\n",
    "\n",
    "b.\n",
    "The DefaultTypeCd must be the riskiest one. The riskiest default is the one with the lowest ranking number"
   ]
  },
  {
   "cell_type": "code",
   "execution_count": 12,
   "metadata": {},
   "outputs": [],
   "source": [
    "# SQL query for 9-month aggregation of defaults data\n",
    "aggregation_query = \"\"\"\n",
    "WITH OrderedDefaults AS (\n",
    "    SELECT\n",
    "        AgreementGenId,\n",
    "        DefaultDate,\n",
    "        DefaultEndDate,\n",
    "        DefaultRankNum,\n",
    "        DefaultTypeCd,\n",
    "        ValutaKod,\n",
    "        LossAmount,\n",
    "        EAD,\n",
    "        LEAD(DefaultDate) OVER (PARTITION BY AgreementGenId ORDER BY DefaultDate) AS NextDefaultDate\n",
    "    FROM defaults\n",
    "),\n",
    "MergedDefaults AS (\n",
    "    SELECT\n",
    "        AgreementGenId,\n",
    "        MIN(DefaultDate) AS FirstDefaultDate,\n",
    "        MAX(DefaultEndDate) AS LastDefaultEndDate,\n",
    "        MIN(DefaultRankNum) AS RiskiestRankNum,\n",
    "        FIRST_VALUE(DefaultTypeCd) OVER (PARTITION BY AgreementGenId ORDER BY DefaultRankNum ASC) AS RiskiestTypeCd,\n",
    "        FIRST_VALUE(LossAmount) OVER (PARTITION BY AgreementGenId ORDER BY DefaultDate) AS FirstLossAmount,\n",
    "        FIRST_VALUE(EAD) OVER (PARTITION BY AgreementGenId ORDER BY DefaultDate) AS FirstEAD,\n",
    "        ValutaKod\n",
    "    FROM OrderedDefaults\n",
    "    WHERE julianday(NextDefaultDate) - julianday(DefaultEndDate) <= 273 OR NextDefaultDate IS NULL\n",
    "    GROUP BY AgreementGenId, DefaultDate\n",
    ")\n",
    "\n",
    "SELECT\n",
    "    AgreementGenId,\n",
    "    FirstDefaultDate AS DefaultDate,\n",
    "    LastDefaultEndDate AS DefaultEndDate,\n",
    "    RiskiestRankNum AS DefaultRankNum,\n",
    "    RiskiestTypeCd AS DefaultTypeCd,\n",
    "    ValutaKod,\n",
    "    FirstLossAmount AS LossAmount,\n",
    "    FirstEAD AS EAD\n",
    "FROM MergedDefaults;\n",
    "\"\"\"\n",
    "\n",
    "# Execute\n",
    "merged_defaults_df = pd.read_sql_query(aggregation_query, conn)\n",
    "\n"
   ]
  },
  {
   "cell_type": "code",
   "execution_count": 13,
   "metadata": {},
   "outputs": [],
   "source": [
    "# Display the resulting merged data\n",
    "merged_defaults_df.head() \n",
    "\n",
    "# Optionally, save to a CSV file if you want to export the results\n",
    "merged_defaults_df.to_csv(\"C:\\\\Users\\\\Stephen\\\\Desktop\\\\Doyenify\\\\SWEDBANK_Task\\\\merged_defaults.csv\", index=False)\n"
   ]
  },
  {
   "cell_type": "code",
   "execution_count": 14,
   "metadata": {},
   "outputs": [
    {
     "name": "stdout",
     "output_type": "stream",
     "text": [
      "<class 'pandas.core.frame.DataFrame'>\n",
      "RangeIndex: 943 entries, 0 to 942\n",
      "Data columns (total 8 columns):\n",
      " #   Column          Non-Null Count  Dtype  \n",
      "---  ------          --------------  -----  \n",
      " 0   AgreementGenId  943 non-null    int64  \n",
      " 1   DefaultDate     943 non-null    object \n",
      " 2   DefaultEndDate  943 non-null    object \n",
      " 3   DefaultRankNum  943 non-null    int64  \n",
      " 4   DefaultTypeCd   943 non-null    object \n",
      " 5   ValutaKod       943 non-null    object \n",
      " 6   LossAmount      943 non-null    float64\n",
      " 7   EAD             943 non-null    float64\n",
      "dtypes: float64(2), int64(2), object(4)\n",
      "memory usage: 59.1+ KB\n"
     ]
    }
   ],
   "source": [
    "merged_defaults_df.info()"
   ]
  },
  {
   "cell_type": "markdown",
   "metadata": {},
   "source": [
    "# Question 4. What is the new number of unique defaults?"
   ]
  },
  {
   "cell_type": "code",
   "execution_count": 15,
   "metadata": {},
   "outputs": [
    {
     "name": "stdout",
     "output_type": "stream",
     "text": [
      "New number of unique defaults after nine-month aggregation: 943\n"
     ]
    }
   ],
   "source": [
    "# Calculate the new number of unique defaults after aggregation\n",
    "unique_defaults_count = merged_defaults_df[['AgreementGenId', 'DefaultDate']].drop_duplicates().shape[0]\n",
    "\n",
    "print(f\"New number of unique defaults after nine-month aggregation: {unique_defaults_count}\")\n"
   ]
  },
  {
   "cell_type": "markdown",
   "metadata": {},
   "source": [
    "# QUESTION 5\n",
    "\n",
    "Analyse EAD-s and loss amounts\n",
    "\n",
    "\n",
    "Having found out that some EAD amount exist in other  currencies like USD, Euro and Pounds in the default,\n",
    "\n",
    "It is adviable to convert it to the base currency SEK using the exchange rate. This will require converting the data\n",
    "on those currecny that are not SEK in the default data by taking  the taking the excahnge rate on the exact or close date in the exchange rate data"
   ]
  },
  {
   "cell_type": "code",
   "execution_count": 16,
   "metadata": {},
   "outputs": [
    {
     "data": {
      "text/html": [
       "<div>\n",
       "<style scoped>\n",
       "    .dataframe tbody tr th:only-of-type {\n",
       "        vertical-align: middle;\n",
       "    }\n",
       "\n",
       "    .dataframe tbody tr th {\n",
       "        vertical-align: top;\n",
       "    }\n",
       "\n",
       "    .dataframe thead th {\n",
       "        text-align: right;\n",
       "    }\n",
       "</style>\n",
       "<table border=\"1\" class=\"dataframe\">\n",
       "  <thead>\n",
       "    <tr style=\"text-align: right;\">\n",
       "      <th></th>\n",
       "      <th>AgreementGenId</th>\n",
       "      <th>DefaultDate</th>\n",
       "      <th>DefaultEndDate</th>\n",
       "      <th>DefaultRankNum</th>\n",
       "      <th>DefaultTypeCd</th>\n",
       "      <th>ValutaKod</th>\n",
       "      <th>LossAmount_SEK</th>\n",
       "      <th>EAD_SEK</th>\n",
       "    </tr>\n",
       "  </thead>\n",
       "  <tbody>\n",
       "    <tr>\n",
       "      <th>0</th>\n",
       "      <td>1329252</td>\n",
       "      <td>2018-04-01 00:00:00</td>\n",
       "      <td>2999-12-31 00:00:00</td>\n",
       "      <td>26</td>\n",
       "      <td>D90</td>\n",
       "      <td>NOK</td>\n",
       "      <td>24259.522877</td>\n",
       "      <td>24259.522877</td>\n",
       "    </tr>\n",
       "    <tr>\n",
       "      <th>1</th>\n",
       "      <td>1334976</td>\n",
       "      <td>2014-11-01 00:00:00</td>\n",
       "      <td>2999-12-31 00:00:00</td>\n",
       "      <td>20</td>\n",
       "      <td>HAF</td>\n",
       "      <td>USD</td>\n",
       "      <td>74581.867941</td>\n",
       "      <td>74581.867941</td>\n",
       "    </tr>\n",
       "    <tr>\n",
       "      <th>2</th>\n",
       "      <td>1416924</td>\n",
       "      <td>2014-09-01 00:00:00</td>\n",
       "      <td>2016-02-29 00:00:00</td>\n",
       "      <td>26</td>\n",
       "      <td>D90</td>\n",
       "      <td>EUR</td>\n",
       "      <td>174656.512474</td>\n",
       "      <td>174656.512474</td>\n",
       "    </tr>\n",
       "    <tr>\n",
       "      <th>3</th>\n",
       "      <td>1557036</td>\n",
       "      <td>2012-03-01 00:00:00</td>\n",
       "      <td>2999-12-31 00:00:00</td>\n",
       "      <td>20</td>\n",
       "      <td>HAF</td>\n",
       "      <td>NOK</td>\n",
       "      <td>24771.841426</td>\n",
       "      <td>24771.841426</td>\n",
       "    </tr>\n",
       "    <tr>\n",
       "      <th>4</th>\n",
       "      <td>1583400</td>\n",
       "      <td>2009-01-01 00:00:00</td>\n",
       "      <td>2010-03-31 00:00:00</td>\n",
       "      <td>11</td>\n",
       "      <td>SS</td>\n",
       "      <td>USD</td>\n",
       "      <td>84838.149377</td>\n",
       "      <td>84838.149377</td>\n",
       "    </tr>\n",
       "  </tbody>\n",
       "</table>\n",
       "</div>"
      ],
      "text/plain": [
       "   AgreementGenId          DefaultDate       DefaultEndDate  DefaultRankNum  \\\n",
       "0         1329252  2018-04-01 00:00:00  2999-12-31 00:00:00              26   \n",
       "1         1334976  2014-11-01 00:00:00  2999-12-31 00:00:00              20   \n",
       "2         1416924  2014-09-01 00:00:00  2016-02-29 00:00:00              26   \n",
       "3         1557036  2012-03-01 00:00:00  2999-12-31 00:00:00              20   \n",
       "4         1583400  2009-01-01 00:00:00  2010-03-31 00:00:00              11   \n",
       "\n",
       "  DefaultTypeCd ValutaKod  LossAmount_SEK        EAD_SEK  \n",
       "0           D90       NOK    24259.522877   24259.522877  \n",
       "1           HAF       USD    74581.867941   74581.867941  \n",
       "2           D90       EUR   174656.512474  174656.512474  \n",
       "3           HAF       NOK    24771.841426   24771.841426  \n",
       "4            SS       USD    84838.149377   84838.149377  "
      ]
     },
     "execution_count": 16,
     "metadata": {},
     "output_type": "execute_result"
    }
   ],
   "source": [
    "# SQL query to join defaults with the nearest available exchange rate and matching currency code\n",
    "conversion_query = \"\"\"\n",
    "WITH NearestRates AS (\n",
    "    SELECT\n",
    "        d.AgreementGenId,\n",
    "        d.DefaultDate,\n",
    "        d.DefaultEndDate,\n",
    "        d.DefaultRankNum,\n",
    "        d.DefaultTypeCd,\n",
    "        d.ValutaKod,\n",
    "        d.LossAmount,\n",
    "        d.EAD,\n",
    "        e.CurrencyCd,\n",
    "        e.ReportDate,\n",
    "        e.Valuation AS SEK_ExchangeRate,\n",
    "        MAX(e.ReportDate) OVER (PARTITION BY d.AgreementGenId, d.ValutaKod\n",
    "                                ORDER BY e.ReportDate DESC\n",
    "                                RANGE BETWEEN UNBOUNDED PRECEDING AND CURRENT ROW) AS NearestReportDate\n",
    "    FROM defaults d\n",
    "    LEFT JOIN exchangerates e\n",
    "    ON d.ValutaKod = e.CurrencyCd AND e.ReportDate <= d.DefaultDate\n",
    "),\n",
    "FilteredRates AS (\n",
    "    SELECT *\n",
    "    FROM NearestRates\n",
    "    WHERE ReportDate = NearestReportDate\n",
    ")\n",
    "SELECT\n",
    "    AgreementGenId,\n",
    "    DefaultDate,\n",
    "    DefaultEndDate,\n",
    "    DefaultRankNum,\n",
    "    DefaultTypeCd,\n",
    "    ValutaKod,\n",
    "    LossAmount * SEK_ExchangeRate AS LossAmount_SEK,\n",
    "    EAD * SEK_ExchangeRate AS EAD_SEK\n",
    "FROM FilteredRates\n",
    "WHERE SEK_ExchangeRate IS NOT NULL;\n",
    "\"\"\"\n",
    "\n",
    "# Execute\n",
    "converted_defaults_df = pd.read_sql_query(conversion_query, conn)\n",
    "\n",
    "converted_defaults_df.head()\n"
   ]
  },
  {
   "cell_type": "code",
   "execution_count": 17,
   "metadata": {},
   "outputs": [
    {
     "name": "stdout",
     "output_type": "stream",
     "text": [
      "<class 'pandas.core.frame.DataFrame'>\n",
      "RangeIndex: 38 entries, 0 to 37\n",
      "Data columns (total 8 columns):\n",
      " #   Column          Non-Null Count  Dtype  \n",
      "---  ------          --------------  -----  \n",
      " 0   AgreementGenId  38 non-null     int64  \n",
      " 1   DefaultDate     38 non-null     object \n",
      " 2   DefaultEndDate  38 non-null     object \n",
      " 3   DefaultRankNum  38 non-null     int64  \n",
      " 4   DefaultTypeCd   38 non-null     object \n",
      " 5   ValutaKod       38 non-null     object \n",
      " 6   LossAmount_SEK  38 non-null     float64\n",
      " 7   EAD_SEK         38 non-null     float64\n",
      "dtypes: float64(2), int64(2), object(4)\n",
      "memory usage: 2.5+ KB\n"
     ]
    }
   ],
   "source": [
    "converted_defaults_df.info()"
   ]
  },
  {
   "cell_type": "markdown",
   "metadata": {},
   "source": [
    "for consistency, it is nice to Update defaults_df with the SEK values from converted_defaults_df"
   ]
  },
  {
   "cell_type": "code",
   "execution_count": 18,
   "metadata": {},
   "outputs": [
    {
     "data": {
      "text/html": [
       "<div>\n",
       "<style scoped>\n",
       "    .dataframe tbody tr th:only-of-type {\n",
       "        vertical-align: middle;\n",
       "    }\n",
       "\n",
       "    .dataframe tbody tr th {\n",
       "        vertical-align: top;\n",
       "    }\n",
       "\n",
       "    .dataframe thead th {\n",
       "        text-align: right;\n",
       "    }\n",
       "</style>\n",
       "<table border=\"1\" class=\"dataframe\">\n",
       "  <thead>\n",
       "    <tr style=\"text-align: right;\">\n",
       "      <th></th>\n",
       "      <th>AgreementGenId</th>\n",
       "      <th>DefaultDate</th>\n",
       "      <th>DefaultEndDate</th>\n",
       "      <th>DefaultRankNum</th>\n",
       "      <th>DefaultTypeCd</th>\n",
       "      <th>ValutaKod</th>\n",
       "      <th>LossAmount</th>\n",
       "      <th>EAD</th>\n",
       "    </tr>\n",
       "  </thead>\n",
       "  <tbody>\n",
       "    <tr>\n",
       "      <th>0</th>\n",
       "      <td>1180176</td>\n",
       "      <td>2010-05-01</td>\n",
       "      <td>2018-02-28 00:00:00</td>\n",
       "      <td>26</td>\n",
       "      <td>D90</td>\n",
       "      <td>SEK</td>\n",
       "      <td>5097.970135</td>\n",
       "      <td>14980.383</td>\n",
       "    </tr>\n",
       "    <tr>\n",
       "      <th>1</th>\n",
       "      <td>1196292</td>\n",
       "      <td>2006-11-01</td>\n",
       "      <td>2018-05-31 00:00:00</td>\n",
       "      <td>20</td>\n",
       "      <td>HAF</td>\n",
       "      <td>SEK</td>\n",
       "      <td>28663.800000</td>\n",
       "      <td>28663.800</td>\n",
       "    </tr>\n",
       "    <tr>\n",
       "      <th>2</th>\n",
       "      <td>1211676</td>\n",
       "      <td>2008-05-01</td>\n",
       "      <td>2008-09-30 00:00:00</td>\n",
       "      <td>26</td>\n",
       "      <td>D90</td>\n",
       "      <td>SEK</td>\n",
       "      <td>16674.493000</td>\n",
       "      <td>16674.493</td>\n",
       "    </tr>\n",
       "    <tr>\n",
       "      <th>3</th>\n",
       "      <td>1226304</td>\n",
       "      <td>2019-04-01</td>\n",
       "      <td>2999-12-31 00:00:00</td>\n",
       "      <td>26</td>\n",
       "      <td>D90</td>\n",
       "      <td>SEK</td>\n",
       "      <td>10293.008000</td>\n",
       "      <td>10293.008</td>\n",
       "    </tr>\n",
       "    <tr>\n",
       "      <th>4</th>\n",
       "      <td>1235808</td>\n",
       "      <td>2010-11-01</td>\n",
       "      <td>2018-10-31 00:00:00</td>\n",
       "      <td>26</td>\n",
       "      <td>D90</td>\n",
       "      <td>SEK</td>\n",
       "      <td>22431.816000</td>\n",
       "      <td>22431.816</td>\n",
       "    </tr>\n",
       "  </tbody>\n",
       "</table>\n",
       "</div>"
      ],
      "text/plain": [
       "   AgreementGenId DefaultDate       DefaultEndDate  DefaultRankNum  \\\n",
       "0         1180176  2010-05-01  2018-02-28 00:00:00              26   \n",
       "1         1196292  2006-11-01  2018-05-31 00:00:00              20   \n",
       "2         1211676  2008-05-01  2008-09-30 00:00:00              26   \n",
       "3         1226304  2019-04-01  2999-12-31 00:00:00              26   \n",
       "4         1235808  2010-11-01  2018-10-31 00:00:00              26   \n",
       "\n",
       "  DefaultTypeCd ValutaKod    LossAmount        EAD  \n",
       "0           D90       SEK   5097.970135  14980.383  \n",
       "1           HAF       SEK  28663.800000  28663.800  \n",
       "2           D90       SEK  16674.493000  16674.493  \n",
       "3           D90       SEK  10293.008000  10293.008  \n",
       "4           D90       SEK  22431.816000  22431.816  "
      ]
     },
     "execution_count": 18,
     "metadata": {},
     "output_type": "execute_result"
    }
   ],
   "source": [
    "\n",
    "# Set ValutaKod 'SEK' for the rows being updated\n",
    "defaults_df.loc[defaults_df['AgreementGenId'].isin(converted_defaults_df['AgreementGenId']), 'ValutaKod'] = 'SEK'\n",
    "\n",
    "# update the LossAmount and EAD columns with the new converted values from converted_defaults_df\n",
    "defaults_df.update(converted_defaults_df.set_index('AgreementGenId')[['LossAmount_SEK', 'EAD_SEK']].rename(\n",
    "    columns={'LossAmount_SEK': 'LossAmount', 'EAD_SEK': 'EAD'}))\n",
    "\n",
    "defaults_df.head()\n"
   ]
  },
  {
   "cell_type": "code",
   "execution_count": 19,
   "metadata": {},
   "outputs": [
    {
     "data": {
      "text/html": [
       "<div>\n",
       "<style scoped>\n",
       "    .dataframe tbody tr th:only-of-type {\n",
       "        vertical-align: middle;\n",
       "    }\n",
       "\n",
       "    .dataframe tbody tr th {\n",
       "        vertical-align: top;\n",
       "    }\n",
       "\n",
       "    .dataframe thead th {\n",
       "        text-align: right;\n",
       "    }\n",
       "</style>\n",
       "<table border=\"1\" class=\"dataframe\">\n",
       "  <thead>\n",
       "    <tr style=\"text-align: right;\">\n",
       "      <th></th>\n",
       "      <th>AgreementGenId</th>\n",
       "      <th>DefaultDate</th>\n",
       "      <th>DefaultEndDate</th>\n",
       "      <th>DefaultRankNum</th>\n",
       "      <th>DefaultTypeCd</th>\n",
       "      <th>ValutaKod</th>\n",
       "      <th>LossAmount</th>\n",
       "      <th>EAD</th>\n",
       "    </tr>\n",
       "  </thead>\n",
       "  <tbody>\n",
       "  </tbody>\n",
       "</table>\n",
       "</div>"
      ],
      "text/plain": [
       "Empty DataFrame\n",
       "Columns: [AgreementGenId, DefaultDate, DefaultEndDate, DefaultRankNum, DefaultTypeCd, ValutaKod, LossAmount, EAD]\n",
       "Index: []"
      ]
     },
     "execution_count": 19,
     "metadata": {},
     "output_type": "execute_result"
    }
   ],
   "source": [
    "# checking if ValutaKod still equal to \"SEK\"\n",
    "Check_non_sek_rows = defaults_df[defaults_df['ValutaKod'] != \"SEK\"]\n",
    "\n",
    "Check_non_sek_rows.head()\n"
   ]
  },
  {
   "cell_type": "code",
   "execution_count": 20,
   "metadata": {},
   "outputs": [
    {
     "data": {
      "text/plain": [
       "(LossAmount    7.159762e+06\n",
       " EAD           1.297614e+07\n",
       " dtype: float64,\n",
       " LossAmount     7552.491533\n",
       " EAD           13687.907004\n",
       " dtype: float64)"
      ]
     },
     "execution_count": 20,
     "metadata": {},
     "output_type": "execute_result"
    }
   ],
   "source": [
    "# Aggregate analysis: total and average EAD and LossAmount in SEK\n",
    "total_aggregates = defaults_df[['LossAmount', 'EAD']].sum()\n",
    "average_aggregates = defaults_df[['LossAmount', 'EAD']].mean()\n",
    "\n",
    "\n",
    "total_aggregates, average_aggregates"
   ]
  },
  {
   "cell_type": "markdown",
   "metadata": {},
   "source": [
    "From this insight, i would say the total loss amount is 7,159,762  SEK with\n",
    "a sum average of 75552  while exposure to default amount to 12,976,140 SEK  averaging 13,687.\n",
    "This show the average exposure of default by the bank from the borrower is less than the average loss amount"
   ]
  },
  {
   "cell_type": "markdown",
   "metadata": {},
   "source": [
    "# Question 6\n",
    "\n",
    "Make a new binary variable that shows if the default is open now. How many defaults are closed and how many are open?\n",
    "\n",
    "\n"
   ]
  },
  {
   "cell_type": "markdown",
   "metadata": {},
   "source": [
    "To understand which default is open or close, I will be Employ binary classification\n",
    "by using the lamba function without the need of creating a function to check the DefaultEndDate column,  and append 1 \n",
    "if the DefaultEndDate(Date when default status ended) is greater than the current date and  Zero if other"
   ]
  },
  {
   "cell_type": "code",
   "execution_count": 21,
   "metadata": {},
   "outputs": [],
   "source": [
    "\n",
    "# Define the current date for comparison\n",
    "current_date = datetime.now()\n",
    "\n",
    "\n",
    "# Create a binary 'IsOpen' column: 1 if the default is open, 0 if closed\n",
    "defaults_df['IsOpen'] = defaults_df['DefaultEndDate'].apply(\n",
    "    lambda end_date: 1 if pd.isnull(end_date) or end_date > current_date else 0\n",
    ")\n",
    "\n",
    "# Count and sum\n",
    "open_defaults = defaults_df['IsOpen'].sum()\n",
    "closed_defaults = len(defaults_df) - open_defaults\n"
   ]
  },
  {
   "cell_type": "code",
   "execution_count": 22,
   "metadata": {},
   "outputs": [
    {
     "name": "stdout",
     "output_type": "stream",
     "text": [
      "Number of open defaults: 85\n",
      "Number of closed defaults: 863\n"
     ]
    }
   ],
   "source": [
    "print(f\"Number of open defaults: {open_defaults}\")\n",
    "print(f\"Number of closed defaults: {closed_defaults}\")"
   ]
  },
  {
   "cell_type": "markdown",
   "metadata": {},
   "source": [
    "This show  a current 863 loan default opening with 85 closed"
   ]
  },
  {
   "cell_type": "markdown",
   "metadata": {},
   "source": [
    "# Question 7\n",
    "\n",
    "Add 1.6% of EAD to each loss amount. Find the sum of new loss amount and old.\n",
    "Also calculate the loss percentages on total level and on default type level with the new loss amount."
   ]
  },
  {
   "cell_type": "code",
   "execution_count": 23,
   "metadata": {},
   "outputs": [],
   "source": [
    "# adding 1.6% of EAD to the original LossAmount\n",
    "defaults_df['NewLossAmount'] = defaults_df['LossAmount'] + (0.016 * defaults_df['EAD'])\n"
   ]
  },
  {
   "cell_type": "code",
   "execution_count": 24,
   "metadata": {},
   "outputs": [
    {
     "name": "stdout",
     "output_type": "stream",
     "text": [
      "Total of old loss amounts: 7159761.973653771\n",
      "Total of new loss amounts: 7367380.147092355\n"
     ]
    }
   ],
   "source": [
    "# Calculate the sum\n",
    "total_old_loss_sum = defaults_df['LossAmount'].sum()\n",
    "total_new_loss_sum = defaults_df['NewLossAmount'].sum()\n",
    "\n",
    "print(f\"Total of old loss amounts: {total_old_loss_sum}\")\n",
    "print(f\"Total of new loss amounts: {total_new_loss_sum}\")\n"
   ]
  },
  {
   "cell_type": "markdown",
   "metadata": {},
   "source": [
    "Once the new and old toal loss amount is known, the change in percentage will be calcluted\n",
    "and also the groupby function will be use to explore the percentage change in respective default  type code"
   ]
  },
  {
   "cell_type": "code",
   "execution_count": 25,
   "metadata": {},
   "outputs": [
    {
     "data": {
      "text/plain": [
       "2.899791560146415"
      ]
     },
     "execution_count": 25,
     "metadata": {},
     "output_type": "execute_result"
    }
   ],
   "source": [
    "\n",
    "# Total level loss percentage to the the new loss amount\n",
    "\n",
    "total_loss_percentage = ((total_new_loss_sum -total_old_loss_sum)/ total_old_loss_sum)* 100\n",
    "\n",
    "total_loss_percentage"
   ]
  },
  {
   "cell_type": "code",
   "execution_count": 26,
   "metadata": {},
   "outputs": [
    {
     "name": "stdout",
     "output_type": "stream",
     "text": [
      "Total loss percentage: 2.899791560146415%\n",
      "Loss percentages by DefaultTypeCd:\n",
      "  DefaultTypeCd  LossPercentage\n",
      "0           CON      103.982238\n",
      "1           D90      102.224212\n",
      "2           HAF      101.652663\n",
      "3            KK      102.397843\n",
      "4         RFF99        0.000000\n",
      "5            SS      105.873430\n"
     ]
    }
   ],
   "source": [
    "# Default type level loss percentages\n",
    "type_level_loss_percentages = defaults_df.groupby('DefaultTypeCd').apply(\n",
    "    lambda x: (x['NewLossAmount'].sum() / x['LossAmount'].sum()) * 100 if x['LossAmount'].sum() != 0 else 0\n",
    ").reset_index(name='LossPercentage')\n",
    "\n",
    "print(f\"Total loss percentage: {total_loss_percentage}%\")\n",
    "print(\"Loss percentages by DefaultTypeCd:\")\n",
    "print(type_level_loss_percentages)"
   ]
  },
  {
   "cell_type": "markdown",
   "metadata": {},
   "source": [
    "This actually show that if each Loss amount increase by 1.6% of their respective EAD,\n",
    "the percentage of total loss will increase by 2.9% and respective Defaulttype CD will increase by over 100%"
   ]
  },
  {
   "cell_type": "markdown",
   "metadata": {},
   "source": [
    "# Question 8"
   ]
  },
  {
   "cell_type": "markdown",
   "metadata": {},
   "source": [
    "A detailed introspect of the data shows credit risk data between a financial institution\n",
    "and clients (borrower defaults on loan). The data show the default start date of respective client\n",
    "and date when the default status will end with the exchange rate value at reported dates.\n",
    "\n",
    "The data contain Exposure at Default (EAD) metric amount the financial organization is exposed to for loan\n",
    "lending and the total loss amount per respective client represented with agreementIDs. This information can help build a credit risk model that can help banks better predict and prepare for potential losses.\n",
    "\n",
    "In-depth analysis of the data shows 623 unique clients and most clients defaulted once or twice. It is discovered that there seems to be an increase\n",
    "in the Loss amount compared to the EAD amount with majority loan default opening. \n",
    "It is also discovered that if the Loss amount increases by 1.6% of the EAD metric amount,\n",
    "the percentage change in the loss amount will be 2.9%, and the defaultype level will increase tremendously \n"
   ]
  },
  {
   "cell_type": "code",
   "execution_count": null,
   "metadata": {},
   "outputs": [],
   "source": []
  }
 ],
 "metadata": {
  "kernelspec": {
   "display_name": "Python 3",
   "language": "python",
   "name": "python3"
  },
  "language_info": {
   "codemirror_mode": {
    "name": "ipython",
    "version": 3
   },
   "file_extension": ".py",
   "mimetype": "text/x-python",
   "name": "python",
   "nbconvert_exporter": "python",
   "pygments_lexer": "ipython3",
   "version": "3.7.6"
  }
 },
 "nbformat": 4,
 "nbformat_minor": 4
}
